{
 "cells": [
  {
   "cell_type": "code",
   "execution_count": 1,
   "id": "bd97d118",
   "metadata": {},
   "outputs": [],
   "source": [
    "'''Collect data from the Franfurt Stock Exchange, for the ticker AFX_X, for the whole year 2017 \n",
    "(keep in mind that the date format is YYYY-MM-DD).'''\n",
    "\n",
    "import requests \n",
    "url = 'https://data.nasdaq.com/api/v3/datasets/FSE/AFX_X?api_key=psZBzxfkJW3fdckB_FRx'\n",
    "import collections\n",
    "from collections import OrderedDict"
   ]
  },
  {
   "cell_type": "code",
   "execution_count": 2,
   "id": "6ea0ed74",
   "metadata": {},
   "outputs": [
    {
     "data": {
      "text/plain": [
       "'\\n\\nWhat was the average daily trading volume during this year?\\n(Optional) What was the median trading volume during this year. \\n(Note: you may need to implement your own function for calculating the median.)'"
      ]
     },
     "execution_count": 2,
     "metadata": {},
     "output_type": "execute_result"
    }
   ],
   "source": [
    "'''\n",
    "\n",
    "What was the average daily trading volume during this year?\n",
    "(Optional) What was the median trading volume during this year. \n",
    "(Note: you may need to implement your own function for calculating the median.)'''"
   ]
  },
  {
   "cell_type": "code",
   "execution_count": 3,
   "id": "b50a5e82",
   "metadata": {},
   "outputs": [],
   "source": [
    "'''Convert the returned JSON object into a Python dictionary.'''\n",
    "r = requests.get(url)\n",
    "afx_dict = r.json()\n",
    "#print(afx_dict)"
   ]
  },
  {
   "cell_type": "code",
   "execution_count": 4,
   "id": "296e2bae",
   "metadata": {
    "scrolled": true
   },
   "outputs": [
    {
     "name": "stdout",
     "output_type": "stream",
     "text": [
      "<class 'dict'>\n"
     ]
    }
   ],
   "source": [
    "print(type(afx_dict))"
   ]
  },
  {
   "cell_type": "code",
   "execution_count": 5,
   "id": "56a06769",
   "metadata": {},
   "outputs": [
    {
     "data": {
      "text/plain": [
       "'Calculate what the highest and lowest opening prices were for the stock in this period.'"
      ]
     },
     "execution_count": 5,
     "metadata": {},
     "output_type": "execute_result"
    }
   ],
   "source": [
    "'''Calculate what the highest and lowest opening prices were for the stock in this period.'''"
   ]
  },
  {
   "cell_type": "code",
   "execution_count": 6,
   "id": "c2ecf091",
   "metadata": {
    "scrolled": true
   },
   "outputs": [
    {
     "name": "stdout",
     "output_type": "stream",
     "text": [
      "['Date', 'Open', 'High', 'Low', 'Close', 'Change', 'Traded Volume', 'Turnover', 'Last Price of the Day', 'Daily Traded Units', 'Daily Turnover']\n"
     ]
    }
   ],
   "source": [
    "print(afx_dict['dataset']['column_names'])"
   ]
  },
  {
   "cell_type": "code",
   "execution_count": 7,
   "id": "77eca52d",
   "metadata": {},
   "outputs": [
    {
     "name": "stdout",
     "output_type": "stream",
     "text": [
      "['Open', 'High', 'Low', 'Close', 'Change', 'Traded Volume', 'Turnover', 'Last Price of the Day', 'Daily Traded Units', 'Daily Turnover']\n"
     ]
    }
   ],
   "source": [
    "#map column names to the elemets in each dates data, start by seperating the date from the data \n",
    "column_names = afx_dict[\"dataset\"][\"column_names\"][1:]\n",
    "print(column_names)\n"
   ]
  },
  {
   "cell_type": "code",
   "execution_count": 8,
   "id": "710f33de",
   "metadata": {},
   "outputs": [],
   "source": [
    "#next create a new list with just the data, ?? doest sorted affect the outcome? doesnt seem so\n",
    "data_list = sorted(afx_dict[\"dataset\"][\"data\"])\n",
    "#print(data_list)"
   ]
  },
  {
   "cell_type": "code",
   "execution_count": 9,
   "id": "3d7cdb05",
   "metadata": {},
   "outputs": [],
   "source": [
    "#make a dictionary with the date field as the key\n",
    "#column names to data\n",
    "# start with empty list\n",
    "data_dict = {}\n",
    "for row in data_list:\n",
    "    row_date = row[0]\n",
    "    data_dict[row_date] = collections.OrderedDict(zip(column_names, row[1:])) \n",
    "#print(data_dict)   "
   ]
  },
  {
   "cell_type": "code",
   "execution_count": 10,
   "id": "1c14f393",
   "metadata": {},
   "outputs": [
    {
     "name": "stdout",
     "output_type": "stream",
     "text": [
      "The highest opening price was 122.1\n",
      "The lowest opening price was 4.2\n"
     ]
    }
   ],
   "source": [
    "# make a list of opening prices per day and calculate the highest and lowest opening prices \n",
    "\n",
    "opening_by_day =[]\n",
    "for day in data_dict:\n",
    "    if data_dict[day]['Open'] != None:\n",
    "        opening_by_day.append(data_dict[day]['Open'])\n",
    "                 \n",
    "highest_open = max(opening_by_day)\n",
    "lowest_open = min(opening_by_day)\n",
    "\n",
    "print('The highest opening price was', highest_open)\n",
    "print('The lowest opening price was', lowest_open)\n"
   ]
  },
  {
   "cell_type": "code",
   "execution_count": 11,
   "id": "291d3ab7",
   "metadata": {
    "scrolled": true
   },
   "outputs": [
    {
     "name": "stdout",
     "output_type": "stream",
     "text": [
      "The highest closing price was 123.2\n",
      "The lowest closing price was 4.07\n"
     ]
    }
   ],
   "source": [
    "closing_by_day =[]\n",
    "for day in data_dict:\n",
    "    if data_dict[day]['Close'] != None:\n",
    "        closing_by_day.append(data_dict[day]['Close'])\n",
    "                 \n",
    "highest_close = max(closing_by_day)\n",
    "lowest_close = min(closing_by_day)\n",
    "\n",
    "print('The highest closing price was', highest_close)\n",
    "print('The lowest closing price was', lowest_close)\n"
   ]
  },
  {
   "cell_type": "code",
   "execution_count": 12,
   "id": "54bd43ee",
   "metadata": {},
   "outputs": [
    {
     "data": {
      "text/plain": [
       "'What was the largest change in any one day (based on High and Low price)?'"
      ]
     },
     "execution_count": 12,
     "metadata": {},
     "output_type": "execute_result"
    }
   ],
   "source": [
    "'''What was the largest change in any one day (based on High and Low price)?'''"
   ]
  },
  {
   "cell_type": "code",
   "execution_count": 13,
   "id": "d8c7de6e",
   "metadata": {},
   "outputs": [
    {
     "name": "stdout",
     "output_type": "stream",
     "text": [
      "The largest change in any one day was 14.1\n"
     ]
    }
   ],
   "source": [
    "change_by_day = []\n",
    "for day in data_dict:\n",
    "    if (data_dict[day]['High'] != None and data_dict[day]['Low'] != None):\n",
    "        change_by_day.append(data_dict[day]['High'] - data_dict[day]['Low'])\n",
    "\n",
    "print(\"The largest change in any one day was\", round(max(change_by_day),3))"
   ]
  },
  {
   "cell_type": "code",
   "execution_count": 14,
   "id": "e6fe3d00",
   "metadata": {},
   "outputs": [
    {
     "data": {
      "text/plain": [
       "'What was the largest change between any two days (based on Closing Price)?'"
      ]
     },
     "execution_count": 14,
     "metadata": {},
     "output_type": "execute_result"
    }
   ],
   "source": [
    "'''What was the largest change between any two days (based on Closing Price)?'''"
   ]
  },
  {
   "cell_type": "code",
   "execution_count": 15,
   "id": "4ae6ee2a",
   "metadata": {},
   "outputs": [
    {
     "name": "stdout",
     "output_type": "stream",
     "text": [
      "The largest change in closing price between any two days was 11.2\n"
     ]
    }
   ],
   "source": [
    "#It's easier to compare to the previous day than the next day\n",
    "previous = closing_by_day.pop(0)\n",
    "\n",
    "# initialize\n",
    "max_change = 0 \n",
    "\n",
    "# loop over the list, starting with the 2nd day in the oiginal list\n",
    "# calculating change from previous day's price to today's price\n",
    "for price in closing_by_day:\n",
    "    change = round(abs(price - previous), 1) \n",
    "    max_change = max(change, max_change)\n",
    "    previous = price\n",
    "\n",
    "print(\"The largest change in closing price between any two days was\", max_change)"
   ]
  },
  {
   "cell_type": "code",
   "execution_count": 16,
   "id": "1908f5a2",
   "metadata": {},
   "outputs": [
    {
     "data": {
      "text/plain": [
       "'What was the average daily trading volume during this year?'"
      ]
     },
     "execution_count": 16,
     "metadata": {},
     "output_type": "execute_result"
    }
   ],
   "source": [
    "'''What was the average daily trading volume during this year?'''"
   ]
  },
  {
   "cell_type": "code",
   "execution_count": 17,
   "id": "be607dbb",
   "metadata": {},
   "outputs": [
    {
     "name": "stdout",
     "output_type": "stream",
     "text": [
      "2957391.0\n",
      "0.0\n"
     ]
    }
   ],
   "source": [
    "traded_volume = []\n",
    "for day in data_dict:\n",
    "    if data_dict[day]['Traded Volume'] != None:\n",
    "        traded_volume.append(data_dict[day]['Traded Volume'])\n",
    "        \n",
    "print(max(traded_volume))\n",
    "print(min(traded_volume))\n",
    "    "
   ]
  },
  {
   "cell_type": "code",
   "execution_count": 18,
   "id": "7178618e",
   "metadata": {
    "scrolled": true
   },
   "outputs": [
    {
     "name": "stdout",
     "output_type": "stream",
     "text": [
      "5222\n"
     ]
    }
   ],
   "source": [
    "len_of_days = len(traded_volume)\n",
    "print(len_of_days)"
   ]
  },
  {
   "cell_type": "code",
   "execution_count": 19,
   "id": "07a20e56",
   "metadata": {},
   "outputs": [
    {
     "name": "stdout",
     "output_type": "stream",
     "text": [
      "The average daily trading volume during this year was 57692.61\n"
     ]
    }
   ],
   "source": [
    "avg_tv = round(sum(traded_volume)/len_of_days, 2)\n",
    "print(\"The average daily trading volume during this year was\", avg_tv)"
   ]
  },
  {
   "cell_type": "code",
   "execution_count": 20,
   "id": "f4f101dc",
   "metadata": {},
   "outputs": [
    {
     "data": {
      "text/plain": [
       "'What was the median trading volume during this year. \\n(Note: you may need to implement your own function for calculating the median.)'"
      ]
     },
     "execution_count": 20,
     "metadata": {},
     "output_type": "execute_result"
    }
   ],
   "source": [
    "'''What was the median trading volume during this year. \n",
    "(Note: you may need to implement your own function for calculating the median.)'''"
   ]
  },
  {
   "cell_type": "code",
   "execution_count": 21,
   "id": "2d5dd329",
   "metadata": {},
   "outputs": [
    {
     "name": "stdout",
     "output_type": "stream",
     "text": [
      "The median trading volume during this year was 41605.5\n"
     ]
    }
   ],
   "source": [
    "# I want to take the median number of the list of traded_volume\n",
    "# remember there could be a middle number, or could be 2 middle numbers \n",
    "\n",
    "def find_median(list_of_numerals):\n",
    "    list_of_numerals = sorted(list_of_numerals) \n",
    "    count = len(list_of_numerals)\n",
    "    middle_num = count//2\n",
    "    if (count % 2):\n",
    "        # get the middle number\n",
    "        return(list_of_numerals[middle_num])\n",
    "    else:\n",
    "        # average the two middle numbers\n",
    "        return((list_of_numerals[middle_num] + list_of_numerals[middle_num+1])/2)\n",
    "        \n",
    "print(\"The median trading volume during this year was\", find_median(traded_volume))"
   ]
  }
 ],
 "metadata": {
  "kernelspec": {
   "display_name": "Python 3 (ipykernel)",
   "language": "python",
   "name": "python3"
  },
  "language_info": {
   "codemirror_mode": {
    "name": "ipython",
    "version": 3
   },
   "file_extension": ".py",
   "mimetype": "text/x-python",
   "name": "python",
   "nbconvert_exporter": "python",
   "pygments_lexer": "ipython3",
   "version": "3.9.7"
  }
 },
 "nbformat": 4,
 "nbformat_minor": 5
}
